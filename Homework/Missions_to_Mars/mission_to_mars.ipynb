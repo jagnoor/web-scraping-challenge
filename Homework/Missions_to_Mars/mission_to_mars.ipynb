{
 "cells": [
  {
   "cell_type": "code",
   "execution_count": 22,
   "metadata": {},
   "outputs": [],
   "source": [
    "# Importing Dependencies\n",
    "from splinter import Browser\n",
    "from bs4 import BeautifulSoup\n",
    "from webdriver_manager.chrome import ChromeDriverManager\n",
    "import pandas as pd\n",
    "import time as tm"
   ]
  },
  {
   "cell_type": "code",
   "execution_count": 23,
   "metadata": {},
   "outputs": [
    {
     "name": "stderr",
     "output_type": "stream",
     "text": [
      "[WDM] - Current google-chrome version is 88.0.4324\n",
      "[WDM] - Get LATEST driver version for 88.0.4324\n",
      "[WDM] - Driver [C:\\Users\\Kayla\\.wdm\\drivers\\chromedriver\\win32\\88.0.4324.96\\chromedriver.exe] found in cache\n"
     ]
    },
    {
     "name": "stdout",
     "output_type": "stream",
     "text": [
      " \n"
     ]
    }
   ],
   "source": [
    "# Setting Up Splinter\n",
    "executable_path = {'executable_path': ChromeDriverManager().install()}\n",
    "browser = Browser('chrome', **executable_path, headless=False)"
   ]
  },
  {
   "cell_type": "markdown",
   "metadata": {},
   "source": [
    "## NASA Mars News"
   ]
  },
  {
   "cell_type": "code",
   "execution_count": 3,
   "metadata": {},
   "outputs": [],
   "source": [
    "# URL to NASA Mars News Site\n",
    "url_NASA_News = 'https://mars.nasa.gov/news/'\n",
    "browser.visit(url_NASA_News)\n",
    "\n",
    "# HTML Object\n",
    "html = browser.html\n",
    "\n",
    "# Parse with Beautiful Soup\n",
    "soup = BeautifulSoup(html, 'html.parser')\n",
    "\n",
    "# Visiting the URL Takes Some Time, Using the Time Module to Slow Down the Run\n",
    "tm.sleep(5)"
   ]
  },
  {
   "cell_type": "code",
   "execution_count": 4,
   "metadata": {},
   "outputs": [],
   "source": [
    "# Scraping for Latest Title\n",
    "slidebar = soup.find('li', class_='slide')\n",
    "categories = slidebar.find_all('div', class_='content_title')\n",
    "\n",
    "\n",
    "for category in categories:\n",
    "    news_title = category.text.strip()"
   ]
  },
  {
   "cell_type": "code",
   "execution_count": 5,
   "metadata": {},
   "outputs": [
    {
     "name": "stdout",
     "output_type": "stream",
     "text": [
      "The Latest Title on NASA Mars News Site:\n",
      "NASA's Perseverance Pays Off Back Home\n"
     ]
    }
   ],
   "source": [
    "print(f'''The Latest Title on NASA Mars News Site:\n",
    "{news_title}''')"
   ]
  },
  {
   "cell_type": "code",
   "execution_count": 6,
   "metadata": {},
   "outputs": [],
   "source": [
    "# Scraping for Latest Paragraph\n",
    "slidebar = soup.find('li', class_='slide')\n",
    "categories = slidebar.find_all('div', class_='article_teaser_body')\n",
    "\n",
    "\n",
    "for category in categories:\n",
    "    news_p = category.text.strip()"
   ]
  },
  {
   "cell_type": "code",
   "execution_count": 7,
   "metadata": {
    "scrolled": false
   },
   "outputs": [
    {
     "name": "stdout",
     "output_type": "stream",
     "text": [
      "The Latest Paragraph on NASA Mars News Site:\n",
      "Even as the Perseverance rover approaches Mars, technology on board is paying off on Earth.\n"
     ]
    }
   ],
   "source": [
    "print(f'''The Latest Paragraph on NASA Mars News Site:\n",
    "{news_p}''')"
   ]
  },
  {
   "cell_type": "markdown",
   "metadata": {},
   "source": [
    "## Mars Facts"
   ]
  },
  {
   "cell_type": "code",
   "execution_count": 8,
   "metadata": {},
   "outputs": [],
   "source": [
    "# URL Path to Mars Facts\n",
    "url_Mars_Facts = 'https://space-facts.com/mars/'"
   ]
  },
  {
   "cell_type": "code",
   "execution_count": 9,
   "metadata": {},
   "outputs": [],
   "source": [
    "# Creating Table with Pandas\n",
    "tables = pd.read_html(url_Mars_Facts)"
   ]
  },
  {
   "cell_type": "code",
   "execution_count": 10,
   "metadata": {},
   "outputs": [],
   "source": [
    "# Grabbing Mars Data and Putting in DataFrame\n",
    "df = tables[0]\n",
    "df = df.rename(columns={1:'Mars', 0:' '})"
   ]
  },
  {
   "cell_type": "code",
   "execution_count": 11,
   "metadata": {},
   "outputs": [],
   "source": [
    "# Converting DataFrame to HTML Table String\n",
    "html_table = df.to_html()\n",
    "\n",
    "#Stripping Unwanted Newlines\n",
    "html_table.replace('\\n', '')\n",
    "\n",
    "# Saving to File\n",
    "df.to_html('mars_table.html')"
   ]
  },
  {
   "cell_type": "markdown",
   "metadata": {},
   "source": [
    "## Mars Hemispheres"
   ]
  },
  {
   "cell_type": "code",
   "execution_count": 24,
   "metadata": {},
   "outputs": [],
   "source": [
    "# URL Path to USGS Astrogeology\n",
    "URL_USGS_Astrogeology = 'https://astrogeology.usgs.gov/search/results?q=hemisphere+enhanced&k1=target&v1=Mars'\n",
    "browser.visit(URL_USGS_Astrogeology)\n",
    "\n",
    "# HTML Object\n",
    "html = browser.html\n",
    "\n",
    "# Parse with Beautiful Soup\n",
    "soup = BeautifulSoup(html, 'html.parser')\n",
    "\n",
    "# Visiting the URL Takes Some Time, Using the Time Module to Slow Down the Run\n",
    "tm.sleep(5)"
   ]
  },
  {
   "cell_type": "code",
   "execution_count": 25,
   "metadata": {},
   "outputs": [],
   "source": [
    "# URL Path to USGS Home Page\n",
    "URL_USGS_HomePage = 'https://astrogeology.usgs.gov'\n",
    "\n",
    "# Scraping\n",
    "field_item = soup.find_all('a', class_='itemLink product-item')\n",
    "\n",
    "# Creating List of hrefs and Dropping Duplicates\n",
    "hrefs_list = [item.get('href') for item in field_item]\n",
    "hrefs_list = list(set(hrefs_list))\n",
    "\n",
    "# Creating Dictionary of hemisphere_image_urls\n",
    "hemisphere_image_urls = []\n",
    "\n",
    "\n",
    "# For Loop Grab the Title and Image Path\n",
    "for href in hrefs_list:\n",
    "    # Creating URL for Mars Hemispheres Page\n",
    "    URL_Hemis = URL_USGS_HomePage + href\n",
    "    browser.visit(URL_Hemis)\n",
    "    \n",
    "    # HTML Object\n",
    "    html = browser.html\n",
    "    \n",
    "    # Parse with Beautiful Soup\n",
    "    soup = BeautifulSoup(html, 'html.parser')\n",
    "    \n",
    "    #Scraping Title\n",
    "    img_title = soup.find_all('h2', class_='title')\n",
    "    for t in img_title:\n",
    "        img_title_clean = t.text.strip()\n",
    "    \n",
    "    # Scraping img URL\n",
    "    img_download_thumb = soup.find('div', class_='downloads')\n",
    "    img_url = img_download_thumb.find_all('a')[0]['href']\n",
    "\n",
    "    # Appending Dictionary to List\n",
    "    hemisphere_image_urls.append({\"Title\": img_title_clean, \"img_url\": img_url})"
   ]
  },
  {
   "cell_type": "code",
   "execution_count": 26,
   "metadata": {},
   "outputs": [],
   "source": [
    "# Closing Browser\n",
    "browser.quit()"
   ]
  },
  {
   "cell_type": "code",
   "execution_count": 27,
   "metadata": {},
   "outputs": [],
   "source": [
    "   mars_data = {\n",
    "        \"news_title\": news_title,\n",
    "        \"news_p\": news_p,\n",
    "        \"hemisphere_image_urls\": hemisphere_image_urls\n",
    "    }"
   ]
  },
  {
   "cell_type": "code",
   "execution_count": 34,
   "metadata": {},
   "outputs": [
    {
     "data": {
      "text/plain": [
       "'https://astropedia.astrogeology.usgs.gov/download/Mars/Viking/valles_marineris_enhanced.tif/full.jpg'"
      ]
     },
     "execution_count": 34,
     "metadata": {},
     "output_type": "execute_result"
    }
   ],
   "source": [
    "mars_data['hemisphere_image_urls'][0]['img_url']"
   ]
  },
  {
   "cell_type": "code",
   "execution_count": null,
   "metadata": {},
   "outputs": [],
   "source": []
  }
 ],
 "metadata": {
  "kernelspec": {
   "display_name": "MyPythonEnv",
   "language": "python",
   "name": "mypythonenv"
  },
  "language_info": {
   "codemirror_mode": {
    "name": "ipython",
    "version": 3
   },
   "file_extension": ".py",
   "mimetype": "text/x-python",
   "name": "python",
   "nbconvert_exporter": "python",
   "pygments_lexer": "ipython3",
   "version": "3.8.3"
  }
 },
 "nbformat": 4,
 "nbformat_minor": 4
}
